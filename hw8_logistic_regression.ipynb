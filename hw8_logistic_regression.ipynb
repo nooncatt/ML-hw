{
 "cells": [
  {
   "cell_type": "code",
   "execution_count": 1,
   "metadata": {
    "id": "PLEfjc7ZF2oo"
   },
   "outputs": [],
   "source": [
    "import numpy as np\n",
    "import matplotlib.pyplot as plt\n",
    "\n",
    "from sklearn.datasets import load_digits\n",
    "from sklearn.model_selection import train_test_split\n",
    "\n",
    "np.random.seed(13)"
   ]
  },
  {
   "cell_type": "markdown",
   "metadata": {
    "id": "cBO28yosF2ou"
   },
   "source": [
    "### Данные"
   ]
  },
  {
   "cell_type": "code",
   "execution_count": 2,
   "metadata": {
    "id": "WZiO8IkkF2ow"
   },
   "outputs": [],
   "source": [
    "data = load_digits()"
   ]
  },
  {
   "cell_type": "code",
   "execution_count": 3,
   "metadata": {
    "id": "VXwbMQk1F2ox"
   },
   "outputs": [],
   "source": [
    "X = data['data']\n",
    "y = (data['target'] >= 5).astype(np.int32)"
   ]
  },
  {
   "cell_type": "code",
   "execution_count": 4,
   "metadata": {
    "colab": {
     "base_uri": "https://localhost:8080/",
     "height": 472
    },
    "id": "yrobdhWOF2oy",
    "outputId": "f7b7a1ec-08f5-40e3-a09b-4ddd8d4cf1cb"
   },
   "outputs": [
    {
     "data": {
      "text/plain": [
       "<Figure size 640x480 with 0 Axes>"
      ]
     },
     "metadata": {},
     "output_type": "display_data"
    },
    {
     "data": {
      "image/png": "[encoded data removed]",
      "text/plain": [
       "<Figure size 480x480 with 1 Axes>"
      ]
     },
     "metadata": {},
     "output_type": "display_data"
    },
    {
     "name": "stdout",
     "output_type": "stream",
     "text": [
      "6\n"
     ]
    }
   ],
   "source": [
    "plt.gray()\n",
    "index = np.random.randint(0, len(X) - 1)\n",
    "plt.matshow(X[index].reshape(8, 8))\n",
    "plt.show()\n",
    "print(data.target[index])"
   ]
  },
  {
   "cell_type": "code",
   "execution_count": 5,
   "metadata": {
    "id": "ZuTYUNrrF2o0"
   },
   "outputs": [],
   "source": [
    "X_train, X_test, y_train, y_test = train_test_split(X,\n",
    "                                                    y,\n",
    "                                                    train_size=0.77,\n",
    "                                                    shuffle=True)"
   ]
  },
  {
   "cell_type": "code",
   "execution_count": 6,
   "metadata": {
    "id": "7NYqWl9nF2o0",
    "outputId": "21f4bee8-24d5-45be-fae8-8b45da8e1ccf"
   },
   "outputs": [
    {
     "data": {
      "text/plain": [
       "((1383, 64), (414, 64))"
      ]
     },
     "execution_count": 6,
     "metadata": {},
     "output_type": "execute_result"
    }
   ],
   "source": [
    "X_train.shape, X_test.shape"
   ]
  },
  {
   "cell_type": "markdown",
   "metadata": {
    "id": "a8HeOx9TF2o1"
   },
   "source": [
    "### Логистическая регрессия"
   ]
  },
  {
   "cell_type": "markdown",
   "metadata": {
    "id": "yPVYiOCyF2o3"
   },
   "source": [
    "Вычисление предсказания логистической регрессией для объекта $x_i \\in \\mathbb{R}^n$ :\n",
    "\n",
    "* $z = w^T x_i + b, \\quad w \\in \\mathbb{R}^n, b \\in \\mathbb{R}$\n",
    "* $a = \\sigma (z)$"
   ]
  },
  {
   "cell_type": "markdown",
   "metadata": {
    "id": "IT2v_jzeF2o3"
   },
   "source": [
    "Сигмоида\n",
    "\n",
    "$$\\sigma(x) = \\frac{1}{1 + e^{-x}}$$\n",
    "\n",
    "![alt text](https://upload.wikimedia.org/wikipedia/commons/a/ac/Logistic-curve.png)"
   ]
  },
  {
   "cell_type": "markdown",
   "metadata": {
    "id": "0f5i_KJ6F2o4"
   },
   "source": [
    "Логистическая фунция потерь:\n",
    "\n",
    "$$L_i(a) = -y_i \\cdot log(a) - (1 - y_i) \\cdot log(1 - a)$$"
   ]
  },
  {
   "cell_type": "markdown",
   "metadata": {
    "id": "YGTz-TSoF2o4"
   },
   "source": [
    "Производные функции по параметрам:\n",
    "\n",
    "$$\\frac{\\partial L_i}{\\partial w} = \\frac{\\partial L_i}{\\partial a} \\cdot \\frac{\\partial a}{\\partial z}\n",
    "\\cdot \\frac{\\partial z}{\\partial w} = \\frac {a - y_i} {a \\cdot (1-a)} \\cdot a \\cdot (1-a) \\cdot x_i = (a-y_i) \\cdot x_i $$\n",
    "\n",
    "$$\\frac{\\partial L_i}{\\partial b} = \\frac{\\partial L_i}{\\partial a} \\cdot \\frac{\\partial a}{\\partial z}\n",
    "\\cdot \\frac{\\partial z}{\\partial b} = \\frac {a - y_i} {a \\cdot (1-a)} \\cdot a \\cdot (1-a) \\cdot 1 = a-y_i $$\n",
    "\n",
    "Используются для минимизации функции потерь $L$ с помощью градиентного спуска."
   ]
  },
  {
   "cell_type": "code",
   "execution_count": 7,
   "metadata": {
    "id": "QgEqkURSF2o5"
   },
   "outputs": [],
   "source": [
    "def log_loss(y_true, y_pred):\n",
    "    return -np.sum(y_true * np.log(y_pred) + (1 - y_true) * np.log(1 - y_pred), axis=0) / len(y_true)\n",
    "\n",
    "def sigmoid(x):\n",
    "    return 1 / (1 + np.exp(-x))"
   ]
  },
  {
   "cell_type": "code",
   "execution_count": 8,
   "metadata": {
    "id": "YhHnom43F2o5",
    "outputId": "0b653983-2aa9-4f9a-abea-845e7d54075b"
   },
   "outputs": [
    {
     "name": "stdout",
     "output_type": "stream",
     "text": [
      "Число объектов в обучающей выборке: 1383\n",
      "Размерность объекта: 64\n"
     ]
    }
   ],
   "source": [
    "m, n = X_train.shape\n",
    "print(f'Число объектов в обучающей выборке: {m}\\nРазмерность объекта: {n}')"
   ]
  },
  {
   "cell_type": "code",
   "execution_count": 9,
   "metadata": {},
   "outputs": [
    {
     "name": "stderr",
     "output_type": "stream",
     "text": [
      "C:\\Users\\User\\AppData\\Local\\Temp\\ipykernel_420\\1434606554.py:30: RuntimeWarning: divide by zero encountered in log\n",
      "  return -np.sum(y_true * np.log(y_pred) + (1 - y_true) * np.log(1 - y_pred)) / len(y_true)\n",
      "C:\\Users\\User\\AppData\\Local\\Temp\\ipykernel_420\\1434606554.py:30: RuntimeWarning: invalid value encountered in multiply\n",
      "  return -np.sum(y_true * np.log(y_pred) + (1 - y_true) * np.log(1 - y_pred)) / len(y_true)\n"
     ]
    },
    {
     "name": "stdout",
     "output_type": "stream",
     "text": [
      "Accuracy: 90.57%\n"
     ]
    },
    {
     "data": {
      "image/png": "[encoded data removed]",
      "text/plain": [
       "<Figure size 640x480 with 1 Axes>"
      ]
     },
     "metadata": {},
     "output_type": "display_data"
    }
   ],
   "source": [
    "import numpy as np\n",
    "from sklearn.metrics import accuracy_score\n",
    "from sklearn.model_selection import train_test_split\n",
    "from sklearn.datasets import load_digits\n",
    "import matplotlib.pyplot as plt\n",
    "\n",
    "# Загрузка данных\n",
    "data = load_digits()\n",
    "\n",
    "# Преобразуем целевую переменную (бинаризация)\n",
    "X = data.data\n",
    "y = (data.target >= 5).astype(np.int32)  # Преобразуем в задачу бинарной классификации\n",
    "\n",
    "# Разделение на тренировочные и тестовые данные\n",
    "X_train, X_test, y_train, y_test = train_test_split(X, y, test_size=0.33, random_state=42)\n",
    "\n",
    "# Добавляем столбец с единицами для учета перехвата (bias)\n",
    "X_train = np.c_[np.ones(X_train.shape[0]), X_train]\n",
    "X_test = np.c_[np.ones(X_test.shape[0]), X_test]\n",
    "\n",
    "# Инициализация весов\n",
    "weights = np.zeros(X_train.shape[1])\n",
    "\n",
    "# Сигмоида\n",
    "def sigmoid(z):\n",
    "    return 1 / (1 + np.exp(-z))\n",
    "\n",
    "# Функция потерь (логистическая функция потерь)\n",
    "def log_loss(y_true, y_pred):\n",
    "    return -np.sum(y_true * np.log(y_pred) + (1 - y_true) * np.log(1 - y_pred)) / len(y_true)\n",
    "\n",
    "# Производные функции потерь\n",
    "def gradient(X, y, weights):\n",
    "    predictions = sigmoid(np.dot(X, weights))\n",
    "    gradient_w = np.dot(X.T, predictions - y) / len(y)\n",
    "    return gradient_w\n",
    "\n",
    "# Градиентный спуск\n",
    "def gradient_descent(X, y, weights, learning_rate, iterations):\n",
    "    cost_history = []\n",
    "    for _ in range(iterations):\n",
    "        grad = gradient(X, y, weights)\n",
    "        weights -= learning_rate * grad\n",
    "        predictions = sigmoid(np.dot(X, weights))\n",
    "        cost = log_loss(y, predictions)\n",
    "        cost_history.append(cost)\n",
    "    return weights, cost_history\n",
    "\n",
    "# Настройки градиентного спуска\n",
    "learning_rate = 0.1\n",
    "iterations = 1000\n",
    "\n",
    "# Запуск градиентного спуска\n",
    "final_weights, cost_history = gradient_descent(X_train, y_train, weights, learning_rate, iterations)\n",
    "\n",
    "# Прогнозирование\n",
    "def predict(X, weights):\n",
    "    return sigmoid(np.dot(X, weights)) >= 0.5\n",
    "\n",
    "# Оценка точности\n",
    "y_pred = predict(X_test, final_weights)\n",
    "accuracy = accuracy_score(y_test, y_pred)\n",
    "\n",
    "# Вывод результатов\n",
    "print(f\"Accuracy: {accuracy * 100:.2f}%\")\n",
    "\n",
    "# График стоимости на каждом шаге\n",
    "plt.plot(cost_history)\n",
    "plt.xlabel('Iteration')\n",
    "plt.ylabel('Cost')\n",
    "plt.title('Cost function during gradient descent')\n",
    "plt.show()\n"
   ]
  },
  {
   "cell_type": "code",
   "execution_count": 11,
   "metadata": {},
   "outputs": [],
   "source": [
    "import numpy as np\n",
    "from sklearn.metrics import accuracy_score\n",
    "from sklearn.model_selection import train_test_split\n",
    "from sklearn.datasets import load_digits\n",
    "from sklearn.preprocessing import StandardScaler\n",
    "import matplotlib.pyplot as plt"
   ]
  },
  {
   "cell_type": "code",
   "execution_count": 13,
   "metadata": {},
   "outputs": [
    {
     "data": {
      "text/plain": [
       "array([0, 0, 0, ..., 1, 1, 1])"
      ]
     },
     "execution_count": 13,
     "metadata": {},
     "output_type": "execute_result"
    }
   ],
   "source": [
    "# Преобразуем целевую переменную (бинаризация)\n",
    "X = data.data\n",
    "y = (data.target >= 5).astype(np.int32)  # Преобразуем в задачу бинарной классификации\n",
    "y"
   ]
  },
  {
   "cell_type": "code",
   "execution_count": 14,
   "metadata": {},
   "outputs": [],
   "source": [
    "# Разделение на тренировочные и тестовые данные\n",
    "X_train, X_test, y_train, y_test = train_test_split(X, y, test_size=0.33, random_state=42)"
   ]
  },
  {
   "cell_type": "code",
   "execution_count": 16,
   "metadata": {},
   "outputs": [
    {
     "data": {
      "text/plain": [
       "array([[ 0.        , -0.35276262, -1.07887239, ...,  1.23136343,\n",
       "         0.70082655, -0.19535349],\n",
       "       [ 0.        , -0.35276262,  1.19159808, ..., -0.98875332,\n",
       "        -0.505317  , -0.19535349],\n",
       "       [ 0.        , -0.35276262,  0.57237886, ...,  0.20669416,\n",
       "        -0.505317  , -0.19535349],\n",
       "       ...,\n",
       "       [ 0.        , -0.35276262, -1.07887239, ..., -0.81797511,\n",
       "        -0.505317  , -0.19535349],\n",
       "       [ 0.        , -0.35276262,  0.77878527, ...,  0.37747237,\n",
       "        -0.505317  , -0.19535349],\n",
       "       [ 0.        , -0.35276262, -0.45965317, ..., -0.30564047,\n",
       "        -0.505317  , -0.19535349]])"
      ]
     },
     "execution_count": 16,
     "metadata": {},
     "output_type": "execute_result"
    }
   ],
   "source": [
    "# Нормализация данных\n",
    "scaler = StandardScaler()\n",
    "X_train = scaler.fit_transform(X_train)\n",
    "X_test = scaler.transform(X_test)\n",
    "X_test"
   ]
  },
  {
   "cell_type": "code",
   "execution_count": 17,
   "metadata": {},
   "outputs": [],
   "source": [
    "# Добавляем столбец с единицами для учета перехвата (bias)\n",
    "X_train = np.c_[np.ones(X_train.shape[0]), X_train]\n",
    "X_test = np.c_[np.ones(X_test.shape[0]), X_test]"
   ]
  },
  {
   "cell_type": "code",
   "execution_count": 18,
   "metadata": {},
   "outputs": [],
   "source": [
    "# Инициализация весов\n",
    "weights = np.zeros(X_train.shape[1])"
   ]
  },
  {
   "cell_type": "code",
   "execution_count": 19,
   "metadata": {},
   "outputs": [],
   "source": [
    "# Сигмоида\n",
    "def sigmoid(z):\n",
    "    return 1 / (1 + np.exp(-z))\n",
    "\n",
    "# Функция потерь (логистическая функция потерь)\n",
    "def log_loss(y_true, y_pred):\n",
    "    return -np.sum(y_true * np.log(y_pred) + (1 - y_true) * np.log(1 - y_pred)) / len(y_true)\n",
    "\n",
    "# Производные функции потерь\n",
    "def gradient(X, y, weights):\n",
    "    predictions = sigmoid(np.dot(X, weights))\n",
    "    gradient_w = np.dot(X.T, predictions - y) / len(y)\n",
    "    return gradient_w\n",
    "\n",
    "# Градиентный спуск\n",
    "def gradient_descent(X, y, weights, learning_rate, iterations):\n",
    "    cost_history = []\n",
    "    for _ in range(iterations):\n",
    "        grad = gradient(X, y, weights)\n",
    "        weights -= learning_rate * grad\n",
    "        predictions = sigmoid(np.dot(X, weights))\n",
    "        cost = log_loss(y, predictions)\n",
    "        cost_history.append(cost)\n",
    "    return weights, cost_history"
   ]
  },
  {
   "cell_type": "code",
   "execution_count": 20,
   "metadata": {},
   "outputs": [],
   "source": [
    "# Настройки градиентного спуска\n",
    "learning_rate = 0.01  # Попробуем уменьшить скорость обучения\n",
    "iterations = 1000"
   ]
  },
  {
   "cell_type": "code",
   "execution_count": 21,
   "metadata": {},
   "outputs": [],
   "source": [
    "# Запуск градиентного спуска\n",
    "final_weights, cost_history = gradient_descent(X_train, y_train, weights, learning_rate, iterations)\n",
    "\n",
    "# Прогнозирование\n",
    "def predict(X, weights):\n",
    "    return sigmoid(np.dot(X, weights)) >= 0.5\n",
    "\n",
    "# Оценка точности\n",
    "y_pred = predict(X_test, final_weights)\n",
    "accuracy = accuracy_score(y_test, y_pred)"
   ]
  },
  {
   "cell_type": "code",
   "execution_count": 22,
   "metadata": {},
   "outputs": [
    {
     "name": "stdout",
     "output_type": "stream",
     "text": [
      "Accuracy: 88.89%\n"
     ]
    }
   ],
   "source": [
    "# Вывод результатов\n",
    "print(f\"Accuracy: {accuracy * 100:.2f}%\")"
   ]
  },
  {
   "cell_type": "code",
   "execution_count": 23,
   "metadata": {},
   "outputs": [
    {
     "data": {
      "image/png": "[encoded data removed]",
      "text/plain": [
       "<Figure size 640x480 with 1 Axes>"
      ]
     },
     "metadata": {},
     "output_type": "display_data"
    }
   ],
   "source": [
    "# График стоимости на каждом шаге\n",
    "plt.plot(cost_history)\n",
    "plt.xlabel('Iteration')\n",
    "plt.ylabel('Cost')\n",
    "plt.title('Cost function during gradient descent')\n",
    "plt.show()"
   ]
  },
  {
   "cell_type": "markdown",
   "metadata": {},
   "source": [
    "Точность модели на тестовых данных составила 88.89%. Это довольно хороший результат для задачи классификации"
   ]
  }
 ],
 "metadata": {
  "colab": {
   "provenance": []
  },
  "kernelspec": {
   "display_name": "Python 3 (ipykernel)",
   "language": "python",
   "name": "python3"
  },
  "language_info": {
   "codemirror_mode": {
    "name": "ipython",
    "version": 3
   },
   "file_extension": ".py",
   "mimetype": "text/x-python",
   "name": "python",
   "nbconvert_exporter": "python",
   "pygments_lexer": "ipython3",
   "version": "3.11.5"
  }
 },
 "nbformat": 4,
 "nbformat_minor": 1
}
